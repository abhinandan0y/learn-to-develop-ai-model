{
 "cells": [
  {
   "cell_type": "code",
   "execution_count": 3,
   "id": "0f656cfd",
   "metadata": {
    "scrolled": true
   },
   "outputs": [
    {
     "name": "stdout",
     "output_type": "stream",
     "text": [
      "Defaulting to user installation because normal site-packages is not writeable\n",
      "Requirement already satisfied: pandas in /home/abhinandan/.local/lib/python3.8/site-packages (1.4.2)\n",
      "Requirement already satisfied: numpy in /home/abhinandan/.local/lib/python3.8/site-packages (1.22.3)\n",
      "Requirement already satisfied: matplotlib in /home/abhinandan/.local/lib/python3.8/site-packages (3.7.1)\n",
      "Requirement already satisfied: keras in /home/abhinandan/.local/lib/python3.8/site-packages (2.13.1)\n",
      "Requirement already satisfied: tensorflow in /home/abhinandan/.local/lib/python3.8/site-packages (2.13.1)\n",
      "Requirement already satisfied: pytz>=2020.1 in /home/abhinandan/.local/lib/python3.8/site-packages (from pandas) (2022.1)\n",
      "Requirement already satisfied: python-dateutil>=2.8.1 in /home/abhinandan/.local/lib/python3.8/site-packages (from pandas) (2.8.2)\n",
      "Requirement already satisfied: fonttools>=4.22.0 in /home/abhinandan/.local/lib/python3.8/site-packages (from matplotlib) (4.39.4)\n",
      "Requirement already satisfied: pyparsing>=2.3.1 in /home/abhinandan/.local/lib/python3.8/site-packages (from matplotlib) (3.0.7)\n",
      "Requirement already satisfied: packaging>=20.0 in /home/abhinandan/.local/lib/python3.8/site-packages (from matplotlib) (21.3)\n",
      "Requirement already satisfied: pillow>=6.2.0 in /usr/local/lib/python3.8/dist-packages (from matplotlib) (9.1.0)\n",
      "Requirement already satisfied: kiwisolver>=1.0.1 in /home/abhinandan/.local/lib/python3.8/site-packages (from matplotlib) (1.4.4)\n",
      "Requirement already satisfied: importlib-resources>=3.2.0 in /home/abhinandan/.local/lib/python3.8/site-packages (from matplotlib) (5.6.0)\n",
      "Requirement already satisfied: contourpy>=1.0.1 in /home/abhinandan/.local/lib/python3.8/site-packages (from matplotlib) (1.0.7)\n",
      "Requirement already satisfied: cycler>=0.10 in /home/abhinandan/.local/lib/python3.8/site-packages (from matplotlib) (0.11.0)\n",
      "Requirement already satisfied: google-pasta>=0.1.1 in /home/abhinandan/.local/lib/python3.8/site-packages (from tensorflow) (0.2.0)\n",
      "Requirement already satisfied: tensorboard<2.14,>=2.13 in /home/abhinandan/.local/lib/python3.8/site-packages (from tensorflow) (2.13.0)\n",
      "Requirement already satisfied: termcolor>=1.1.0 in /home/abhinandan/.local/lib/python3.8/site-packages (from tensorflow) (2.4.0)\n",
      "Requirement already satisfied: tensorflow-io-gcs-filesystem>=0.23.1 in /home/abhinandan/.local/lib/python3.8/site-packages (from tensorflow) (0.34.0)\n",
      "Requirement already satisfied: astunparse>=1.6.0 in /home/abhinandan/.local/lib/python3.8/site-packages (from tensorflow) (1.6.3)\n",
      "Requirement already satisfied: opt-einsum>=2.3.2 in /home/abhinandan/.local/lib/python3.8/site-packages (from tensorflow) (3.3.0)\n",
      "Requirement already satisfied: grpcio<2.0,>=1.24.3 in /home/abhinandan/.local/lib/python3.8/site-packages (from tensorflow) (1.65.1)\n",
      "Requirement already satisfied: gast<=0.4.0,>=0.2.1 in /home/abhinandan/.local/lib/python3.8/site-packages (from tensorflow) (0.4.0)\n",
      "Requirement already satisfied: h5py>=2.9.0 in /home/abhinandan/.local/lib/python3.8/site-packages (from tensorflow) (3.11.0)\n",
      "Requirement already satisfied: six>=1.12.0 in /usr/lib/python3/dist-packages (from tensorflow) (1.14.0)\n",
      "Requirement already satisfied: libclang>=13.0.0 in /home/abhinandan/.local/lib/python3.8/site-packages (from tensorflow) (18.1.1)\n",
      "Requirement already satisfied: tensorflow-estimator<2.14,>=2.13.0 in /home/abhinandan/.local/lib/python3.8/site-packages (from tensorflow) (2.13.0)\n",
      "Requirement already satisfied: setuptools in /usr/lib/python3/dist-packages (from tensorflow) (45.2.0)\n",
      "Requirement already satisfied: wrapt>=1.11.0 in /home/abhinandan/.local/lib/python3.8/site-packages (from tensorflow) (1.16.0)\n",
      "Requirement already satisfied: protobuf!=4.21.0,!=4.21.1,!=4.21.2,!=4.21.3,!=4.21.4,!=4.21.5,<5.0.0dev,>=3.20.3 in /home/abhinandan/.local/lib/python3.8/site-packages (from tensorflow) (4.25.3)\n",
      "Requirement already satisfied: flatbuffers>=23.1.21 in /home/abhinandan/.local/lib/python3.8/site-packages (from tensorflow) (24.3.25)\n",
      "Requirement already satisfied: typing-extensions<4.6.0,>=3.6.6 in /home/abhinandan/.local/lib/python3.8/site-packages (from tensorflow) (4.5.0)\n",
      "Requirement already satisfied: absl-py>=1.0.0 in /home/abhinandan/.local/lib/python3.8/site-packages (from tensorflow) (2.1.0)\n",
      "Requirement already satisfied: wheel<1.0,>=0.23.0 in /usr/lib/python3/dist-packages (from astunparse>=1.6.0->tensorflow) (0.34.2)\n",
      "Requirement already satisfied: zipp>=3.1.0 in /home/abhinandan/.local/lib/python3.8/site-packages (from importlib-resources>=3.2.0->matplotlib) (3.7.0)\n",
      "Requirement already satisfied: google-auth<3,>=1.6.3 in /home/abhinandan/.local/lib/python3.8/site-packages (from tensorboard<2.14,>=2.13->tensorflow) (2.32.0)\n",
      "Requirement already satisfied: markdown>=2.6.8 in /home/abhinandan/.local/lib/python3.8/site-packages (from tensorboard<2.14,>=2.13->tensorflow) (3.6)\n",
      "Requirement already satisfied: werkzeug>=1.0.1 in /home/abhinandan/.local/lib/python3.8/site-packages (from tensorboard<2.14,>=2.13->tensorflow) (3.0.3)\n",
      "Requirement already satisfied: google-auth-oauthlib<1.1,>=0.5 in /home/abhinandan/.local/lib/python3.8/site-packages (from tensorboard<2.14,>=2.13->tensorflow) (1.0.0)\n",
      "Requirement already satisfied: tensorboard-data-server<0.8.0,>=0.7.0 in /home/abhinandan/.local/lib/python3.8/site-packages (from tensorboard<2.14,>=2.13->tensorflow) (0.7.2)\n",
      "Requirement already satisfied: requests<3,>=2.21.0 in /usr/lib/python3/dist-packages (from tensorboard<2.14,>=2.13->tensorflow) (2.22.0)\n",
      "Requirement already satisfied: cachetools<6.0,>=2.0.0 in /home/abhinandan/.local/lib/python3.8/site-packages (from google-auth<3,>=1.6.3->tensorboard<2.14,>=2.13->tensorflow) (5.4.0)\n",
      "Requirement already satisfied: rsa<5,>=3.1.4 in /home/abhinandan/.local/lib/python3.8/site-packages (from google-auth<3,>=1.6.3->tensorboard<2.14,>=2.13->tensorflow) (4.9)\n",
      "Requirement already satisfied: pyasn1-modules>=0.2.1 in /home/abhinandan/.local/lib/python3.8/site-packages (from google-auth<3,>=1.6.3->tensorboard<2.14,>=2.13->tensorflow) (0.4.0)\n",
      "Requirement already satisfied: requests-oauthlib>=0.7.0 in /home/abhinandan/.local/lib/python3.8/site-packages (from google-auth-oauthlib<1.1,>=0.5->tensorboard<2.14,>=2.13->tensorflow) (2.0.0)\n",
      "Requirement already satisfied: importlib-metadata>=4.4 in /home/abhinandan/.local/lib/python3.8/site-packages (from markdown>=2.6.8->tensorboard<2.14,>=2.13->tensorflow) (8.0.0)\n",
      "Requirement already satisfied: MarkupSafe>=2.1.1 in /home/abhinandan/.local/lib/python3.8/site-packages (from werkzeug>=1.0.1->tensorboard<2.14,>=2.13->tensorflow) (2.1.1)\n",
      "Requirement already satisfied: pyasn1<0.7.0,>=0.4.6 in /home/abhinandan/.local/lib/python3.8/site-packages (from pyasn1-modules>=0.2.1->google-auth<3,>=1.6.3->tensorboard<2.14,>=2.13->tensorflow) (0.6.0)\n",
      "Requirement already satisfied: oauthlib>=3.0.0 in /usr/lib/python3/dist-packages (from requests-oauthlib>=0.7.0->google-auth-oauthlib<1.1,>=0.5->tensorboard<2.14,>=2.13->tensorflow) (3.1.0)\n",
      "Note: you may need to restart the kernel to use updated packages.\n"
     ]
    }
   ],
   "source": [
    "pip install pandas numpy matplotlib keras tensorflow"
   ]
  },
  {
   "cell_type": "code",
   "execution_count": 6,
   "id": "f21a3329",
   "metadata": {},
   "outputs": [
    {
     "name": "stdout",
     "output_type": "stream",
     "text": [
      "Defaulting to user installation because normal site-packages is not writeable\n",
      "Collecting scikit-learn\n",
      "  Downloading scikit_learn-1.3.2-cp38-cp38-manylinux_2_17_x86_64.manylinux2014_x86_64.whl (11.1 MB)\n",
      "\u001b[2K     \u001b[38;2;114;156;31m━━━━━━━━━━━━━━━━━━━━━━━━━━━━━━━━━━━━━━━━\u001b[0m \u001b[32m11.1/11.1 MB\u001b[0m \u001b[31m4.5 MB/s\u001b[0m eta \u001b[36m0:00:00\u001b[0mm eta \u001b[36m0:00:01\u001b[0m0:01\u001b[0m:01\u001b[0m\n",
      "\u001b[?25hRequirement already satisfied: scipy>=1.5.0 in /usr/local/lib/python3.8/dist-packages (from scikit-learn) (1.8.0)\n",
      "Collecting threadpoolctl>=2.0.0\n",
      "  Using cached threadpoolctl-3.5.0-py3-none-any.whl (18 kB)\n",
      "Collecting joblib>=1.1.1\n",
      "  Using cached joblib-1.4.2-py3-none-any.whl (301 kB)\n",
      "Requirement already satisfied: numpy<2.0,>=1.17.3 in /home/abhinandan/.local/lib/python3.8/site-packages (from scikit-learn) (1.22.3)\n",
      "Installing collected packages: threadpoolctl, joblib, scikit-learn\n",
      "Successfully installed joblib-1.4.2 scikit-learn-1.3.2 threadpoolctl-3.5.0\n",
      "Note: you may need to restart the kernel to use updated packages.\n"
     ]
    }
   ],
   "source": [
    "pip install scikit-learn"
   ]
  },
  {
   "cell_type": "code",
   "execution_count": 7,
   "id": "3bc09940",
   "metadata": {},
   "outputs": [
    {
     "name": "stderr",
     "output_type": "stream",
     "text": [
      "2024-07-23 10:11:06.877399: I tensorflow/tsl/cuda/cudart_stub.cc:28] Could not find cuda drivers on your machine, GPU will not be used.\n",
      "2024-07-23 10:11:07.260288: I tensorflow/tsl/cuda/cudart_stub.cc:28] Could not find cuda drivers on your machine, GPU will not be used.\n",
      "2024-07-23 10:11:07.261608: I tensorflow/core/platform/cpu_feature_guard.cc:182] This TensorFlow binary is optimized to use available CPU instructions in performance-critical operations.\n",
      "To enable the following instructions: AVX2 FMA, in other operations, rebuild TensorFlow with the appropriate compiler flags.\n",
      "2024-07-23 10:11:08.993914: W tensorflow/compiler/tf2tensorrt/utils/py_utils.cc:38] TF-TRT Warning: Could not find TensorRT\n"
     ]
    }
   ],
   "source": [
    "import pandas as pd\n",
    "import numpy as np\n",
    "import matplotlib.pyplot as plt\n",
    "import matplotlib.dates as mdates\n",
    "from sklearn.preprocessing import MinMaxScaler\n",
    "from sklearn.model_selection import TimeSeriesSplit\n",
    "from sklearn.metrics import mean_squared_error, r2_score\n",
    "from sklearn import linear_model\n",
    "from keras.layers import LSTM, Dense, Dropout\n",
    "from keras.models import Sequential, load_model\n",
    "from keras.callbacks import EarlyStopping\n",
    "from keras.optimizers import Adam\n",
    "from tensorflow.keras.utils import plot_model\n",
    "\n",
    "# Enable inline plotting in Jupyter Notebooks\n",
    "%matplotlib inline\n"
   ]
  },
  {
   "cell_type": "code",
   "execution_count": 9,
   "id": "4a86aa65",
   "metadata": {},
   "outputs": [
    {
     "data": {
      "text/html": [
       "<div>\n",
       "<style scoped>\n",
       "    .dataframe tbody tr th:only-of-type {\n",
       "        vertical-align: middle;\n",
       "    }\n",
       "\n",
       "    .dataframe tbody tr th {\n",
       "        vertical-align: top;\n",
       "    }\n",
       "\n",
       "    .dataframe thead th {\n",
       "        text-align: right;\n",
       "    }\n",
       "</style>\n",
       "<table border=\"1\" class=\"dataframe\">\n",
       "  <thead>\n",
       "    <tr style=\"text-align: right;\">\n",
       "      <th></th>\n",
       "      <th>Open</th>\n",
       "      <th>High</th>\n",
       "      <th>Low</th>\n",
       "      <th>Close</th>\n",
       "      <th>Adj Close</th>\n",
       "      <th>Volume</th>\n",
       "    </tr>\n",
       "    <tr>\n",
       "      <th>Date</th>\n",
       "      <th></th>\n",
       "      <th></th>\n",
       "      <th></th>\n",
       "      <th></th>\n",
       "      <th></th>\n",
       "      <th></th>\n",
       "    </tr>\n",
       "  </thead>\n",
       "  <tbody>\n",
       "    <tr>\n",
       "      <th>1987-06-23</th>\n",
       "      <td>0.360243</td>\n",
       "      <td>0.360243</td>\n",
       "      <td>0.348958</td>\n",
       "      <td>0.356771</td>\n",
       "      <td>0.220379</td>\n",
       "      <td>100771200</td>\n",
       "    </tr>\n",
       "    <tr>\n",
       "      <th>1987-06-24</th>\n",
       "      <td>0.358507</td>\n",
       "      <td>0.368056</td>\n",
       "      <td>0.358507</td>\n",
       "      <td>0.363715</td>\n",
       "      <td>0.224669</td>\n",
       "      <td>82684800</td>\n",
       "    </tr>\n",
       "    <tr>\n",
       "      <th>1987-06-25</th>\n",
       "      <td>0.362847</td>\n",
       "      <td>0.364583</td>\n",
       "      <td>0.359375</td>\n",
       "      <td>0.362847</td>\n",
       "      <td>0.224133</td>\n",
       "      <td>44035200</td>\n",
       "    </tr>\n",
       "    <tr>\n",
       "      <th>1987-06-26</th>\n",
       "      <td>0.363715</td>\n",
       "      <td>0.365451</td>\n",
       "      <td>0.360243</td>\n",
       "      <td>0.363715</td>\n",
       "      <td>0.224669</td>\n",
       "      <td>21945600</td>\n",
       "    </tr>\n",
       "    <tr>\n",
       "      <th>1987-06-29</th>\n",
       "      <td>0.363715</td>\n",
       "      <td>0.363715</td>\n",
       "      <td>0.355903</td>\n",
       "      <td>0.361979</td>\n",
       "      <td>0.223596</td>\n",
       "      <td>25632000</td>\n",
       "    </tr>\n",
       "  </tbody>\n",
       "</table>\n",
       "</div>"
      ],
      "text/plain": [
       "                Open      High       Low     Close  Adj Close     Volume\n",
       "Date                                                                    \n",
       "1987-06-23  0.360243  0.360243  0.348958  0.356771   0.220379  100771200\n",
       "1987-06-24  0.358507  0.368056  0.358507  0.363715   0.224669   82684800\n",
       "1987-06-25  0.362847  0.364583  0.359375  0.362847   0.224133   44035200\n",
       "1987-06-26  0.363715  0.365451  0.360243  0.363715   0.224669   21945600\n",
       "1987-06-29  0.363715  0.363715  0.355903  0.361979   0.223596   25632000"
      ]
     },
     "execution_count": 9,
     "metadata": {},
     "output_type": "execute_result"
    }
   ],
   "source": [
    "#Get the Dataset\n",
    "#df=pd.read_csv(“~/Downloads/StockMarket/MSFT.csv”,na_values=[‘null’],index_col=’Date’,parse_dates=True,infer_datetime_format=True)\n",
    "df=pd.read_csv(\"~/Downloads/StockMarket/MSFT.csv\",na_values=['null'],index_col='Date',parse_dates=True,infer_datetime_format=True)\n",
    "\n",
    "df.head()"
   ]
  },
  {
   "cell_type": "code",
   "execution_count": 12,
   "id": "f68f853a",
   "metadata": {},
   "outputs": [
    {
     "name": "stdout",
     "output_type": "stream",
     "text": [
      "Dataframe Shape:  (9343, 6)\n",
      "Null Value Present:  False\n"
     ]
    }
   ],
   "source": [
    "#Print the shape of Dataframe  and Check for Null Values\n",
    "print(\"Dataframe Shape: \", df. shape)\n",
    "print(\"Null Value Present: \", df.isnull().values.any())\n",
    "#Output:\n",
    "#>> Dataframe Shape: (7334, 6)\n",
    "#>>Null Value Present: False"
   ]
  },
  {
   "cell_type": "code",
   "execution_count": 14,
   "id": "5d8b86ea",
   "metadata": {},
   "outputs": [
    {
     "data": {
      "text/plain": [
       "<Axes: xlabel='Date'>"
      ]
     },
     "execution_count": 14,
     "metadata": {},
     "output_type": "execute_result"
    },
    {
     "data": {
      "image/png": "[encoded data removed]",
      "text/plain": [
       "<Figure size 432x288 with 1 Axes>"
      ]
     },
     "metadata": {
      "needs_background": "light"
     },
     "output_type": "display_data"
    }
   ],
   "source": [
    "#Plot the True Adj Close Value\n",
    "df['Adj Close'].plot()"
   ]
  },
  {
   "cell_type": "code",
   "execution_count": 16,
   "id": "41ab6c65",
   "metadata": {},
   "outputs": [],
   "source": [
    "# Plot the 'Adj Close' column\n",
    "#df['Adj Close'].plot()\n",
    "#plt.title('Adjusted Close Price')\n",
    "#plt.xlabel('Date')\n",
    "#plt.ylabel('Adjusted Close')\n",
    "#plt.show()"
   ]
  },
  {
   "cell_type": "code",
   "execution_count": 18,
   "id": "c35268d3",
   "metadata": {},
   "outputs": [],
   "source": [
    "#Set Target Variable\n",
    "output_var = pd.DataFrame(df['Adj Close'])\n",
    "#Selecting the Features\n",
    "features = ['Open', 'High', 'Low', 'Volume']"
   ]
  },
  {
   "cell_type": "code",
   "execution_count": 19,
   "id": "caa8b076",
   "metadata": {},
   "outputs": [
    {
     "data": {
      "text/html": [
       "<div>\n",
       "<style scoped>\n",
       "    .dataframe tbody tr th:only-of-type {\n",
       "        vertical-align: middle;\n",
       "    }\n",
       "\n",
       "    .dataframe tbody tr th {\n",
       "        vertical-align: top;\n",
       "    }\n",
       "\n",
       "    .dataframe thead th {\n",
       "        text-align: right;\n",
       "    }\n",
       "</style>\n",
       "<table border=\"1\" class=\"dataframe\">\n",
       "  <thead>\n",
       "    <tr style=\"text-align: right;\">\n",
       "      <th></th>\n",
       "      <th>Open</th>\n",
       "      <th>High</th>\n",
       "      <th>Low</th>\n",
       "      <th>Volume</th>\n",
       "    </tr>\n",
       "    <tr>\n",
       "      <th>Date</th>\n",
       "      <th></th>\n",
       "      <th></th>\n",
       "      <th></th>\n",
       "      <th></th>\n",
       "    </tr>\n",
       "  </thead>\n",
       "  <tbody>\n",
       "    <tr>\n",
       "      <th>1987-06-23</th>\n",
       "      <td>0.000177</td>\n",
       "      <td>0.000141</td>\n",
       "      <td>0.000194</td>\n",
       "      <td>0.123653</td>\n",
       "    </tr>\n",
       "    <tr>\n",
       "      <th>1987-06-24</th>\n",
       "      <td>0.000173</td>\n",
       "      <td>0.000158</td>\n",
       "      <td>0.000215</td>\n",
       "      <td>0.100613</td>\n",
       "    </tr>\n",
       "    <tr>\n",
       "      <th>1987-06-25</th>\n",
       "      <td>0.000182</td>\n",
       "      <td>0.000150</td>\n",
       "      <td>0.000217</td>\n",
       "      <td>0.051376</td>\n",
       "    </tr>\n",
       "    <tr>\n",
       "      <th>1987-06-26</th>\n",
       "      <td>0.000184</td>\n",
       "      <td>0.000152</td>\n",
       "      <td>0.000219</td>\n",
       "      <td>0.023236</td>\n",
       "    </tr>\n",
       "    <tr>\n",
       "      <th>1987-06-29</th>\n",
       "      <td>0.000184</td>\n",
       "      <td>0.000148</td>\n",
       "      <td>0.000209</td>\n",
       "      <td>0.027932</td>\n",
       "    </tr>\n",
       "  </tbody>\n",
       "</table>\n",
       "</div>"
      ],
      "text/plain": [
       "                Open      High       Low    Volume\n",
       "Date                                              \n",
       "1987-06-23  0.000177  0.000141  0.000194  0.123653\n",
       "1987-06-24  0.000173  0.000158  0.000215  0.100613\n",
       "1987-06-25  0.000182  0.000150  0.000217  0.051376\n",
       "1987-06-26  0.000184  0.000152  0.000219  0.023236\n",
       "1987-06-29  0.000184  0.000148  0.000209  0.027932"
      ]
     },
     "execution_count": 19,
     "metadata": {},
     "output_type": "execute_result"
    }
   ],
   "source": [
    "#Scaling\n",
    "scaler = MinMaxScaler()\n",
    "feature_transform = scaler.fit_transform(df[features])\n",
    "feature_transform= pd.DataFrame(columns=features, data=feature_transform, index=df.index)\n",
    "feature_transform.head()"
   ]
  },
  {
   "cell_type": "code",
   "execution_count": 20,
   "id": "76b127b5",
   "metadata": {},
   "outputs": [],
   "source": [
    "#Splitting to Training set and Test set\n",
    "timesplit= TimeSeriesSplit(n_splits=10)\n",
    "for train_index, test_index in timesplit.split(feature_transform):\n",
    "        X_train, X_test = feature_transform[:len(train_index)], feature_transform[len(train_index): (len(train_index)+len(test_index))]\n",
    "        y_train, y_test = output_var[:len(train_index)].values.ravel(), output_var[len(train_index): (len(train_index)+len(test_index))].values.ravel()"
   ]
  },
  {
   "cell_type": "code",
   "execution_count": 21,
   "id": "06186e5d",
   "metadata": {},
   "outputs": [],
   "source": [
    "#Process the data for LSTM\n",
    "trainX =np.array(X_train)\n",
    "testX =np.array(X_test)\n",
    "X_train = trainX.reshape(X_train.shape[0], 1, X_train.shape[1])\n",
    "X_test = testX.reshape(X_test.shape[0], 1, X_test.shape[1])"
   ]
  },
  {
   "cell_type": "code",
   "execution_count": 24,
   "id": "e8b7e1d7",
   "metadata": {},
   "outputs": [
    {
     "name": "stdout",
     "output_type": "stream",
     "text": [
      "Defaulting to user installation because normal site-packages is not writeable\n",
      "Collecting pydot\n",
      "  Downloading pydot-3.0.1-py3-none-any.whl (22 kB)\n",
      "Collecting pyparsing>=3.0.9\n",
      "  Using cached pyparsing-3.1.2-py3-none-any.whl (103 kB)\n",
      "Installing collected packages: pyparsing, pydot\n",
      "  Attempting uninstall: pyparsing\n",
      "    Found existing installation: pyparsing 3.0.7\n",
      "    Uninstalling pyparsing-3.0.7:\n",
      "      Successfully uninstalled pyparsing-3.0.7\n",
      "Successfully installed pydot-3.0.1 pyparsing-3.1.2\n",
      "Note: you may need to restart the kernel to use updated packages.\n"
     ]
    }
   ],
   "source": [
    "pip install pydot"
   ]
  },
  {
   "cell_type": "code",
   "execution_count": 26,
   "id": "44fe68fd",
   "metadata": {},
   "outputs": [],
   "source": [
    "#sudo apt-get install graphviz"
   ]
  },
  {
   "cell_type": "code",
   "execution_count": 27,
   "id": "b4580f65",
   "metadata": {},
   "outputs": [
    {
     "name": "stdout",
     "output_type": "stream",
     "text": [
      "You must install pydot (`pip install pydot`) and install graphviz (see instructions at https://graphviz.gitlab.io/download/) for plot_model to work.\n"
     ]
    }
   ],
   "source": [
    "#Building the LSTM Model\n",
    "lstm = Sequential()\n",
    "lstm.add(LSTM(32, input_shape=(1, trainX.shape[1]), activation='relu', return_sequences=False))\n",
    "lstm.add(Dense(1))\n",
    "lstm.compile(loss= 'mean_squared_error', optimizer='adam')\n",
    "plot_model(lstm, show_shapes=True, show_layer_names=True)"
   ]
  },
  {
   "cell_type": "code",
   "execution_count": 28,
   "id": "77ecfcf4",
   "metadata": {},
   "outputs": [
    {
     "name": "stdout",
     "output_type": "stream",
     "text": [
      "Epoch 1/100\n",
      "1062/1062 [==============================] - 10s 3ms/step - loss: 485.2562\n",
      "Epoch 2/100\n",
      "1062/1062 [==============================] - 3s 3ms/step - loss: 787.3782\n",
      "Epoch 3/100\n",
      "1062/1062 [==============================] - 3s 3ms/step - loss: 560.3088\n",
      "Epoch 4/100\n",
      "1062/1062 [==============================] - 3s 3ms/step - loss: 299.0772\n",
      "Epoch 5/100\n",
      "1062/1062 [==============================] - 3s 3ms/step - loss: 144.7376\n",
      "Epoch 6/100\n",
      "1062/1062 [==============================] - 3s 3ms/step - loss: 61.8218\n",
      "Epoch 7/100\n",
      "1062/1062 [==============================] - 3s 3ms/step - loss: 24.6278\n",
      "Epoch 8/100\n",
      "1062/1062 [==============================] - 3s 3ms/step - loss: 9.9726\n",
      "Epoch 9/100\n",
      "1062/1062 [==============================] - 3s 3ms/step - loss: 5.0730\n",
      "Epoch 10/100\n",
      "1062/1062 [==============================] - 3s 3ms/step - loss: 3.2412\n",
      "Epoch 11/100\n",
      "1062/1062 [==============================] - 3s 3ms/step - loss: 2.3097\n",
      "Epoch 12/100\n",
      "1062/1062 [==============================] - 4s 3ms/step - loss: 1.7991\n",
      "Epoch 13/100\n",
      "1062/1062 [==============================] - 3s 3ms/step - loss: 1.5496\n",
      "Epoch 14/100\n",
      "1062/1062 [==============================] - 3s 3ms/step - loss: 1.4584\n",
      "Epoch 15/100\n",
      "1062/1062 [==============================] - 3s 3ms/step - loss: 1.4327\n",
      "Epoch 16/100\n",
      "1062/1062 [==============================] - 3s 3ms/step - loss: 1.4220\n",
      "Epoch 17/100\n",
      "1062/1062 [==============================] - 3s 3ms/step - loss: 1.4122\n",
      "Epoch 18/100\n",
      "1062/1062 [==============================] - 3s 3ms/step - loss: 1.4006\n",
      "Epoch 19/100\n",
      "1062/1062 [==============================] - 3s 3ms/step - loss: 1.3867\n",
      "Epoch 20/100\n",
      "1062/1062 [==============================] - 4s 3ms/step - loss: 1.3706\n",
      "Epoch 21/100\n",
      "1062/1062 [==============================] - 3s 3ms/step - loss: 1.3528\n",
      "Epoch 22/100\n",
      "1062/1062 [==============================] - 4s 4ms/step - loss: 1.3340\n",
      "Epoch 23/100\n",
      "1062/1062 [==============================] - 3s 3ms/step - loss: 1.3145\n",
      "Epoch 24/100\n",
      "1062/1062 [==============================] - 3s 3ms/step - loss: 1.2948\n",
      "Epoch 25/100\n",
      "1062/1062 [==============================] - 4s 4ms/step - loss: 1.2752\n",
      "Epoch 26/100\n",
      "1062/1062 [==============================] - 4s 4ms/step - loss: 1.2558\n",
      "Epoch 27/100\n",
      "1062/1062 [==============================] - 3s 3ms/step - loss: 1.2370\n",
      "Epoch 28/100\n",
      "1062/1062 [==============================] - 3s 3ms/step - loss: 1.2185\n",
      "Epoch 29/100\n",
      "1062/1062 [==============================] - 3s 3ms/step - loss: 1.2007\n",
      "Epoch 30/100\n",
      "1062/1062 [==============================] - 3s 3ms/step - loss: 1.1834\n",
      "Epoch 31/100\n",
      "1062/1062 [==============================] - 4s 3ms/step - loss: 1.1666\n",
      "Epoch 32/100\n",
      "1062/1062 [==============================] - 4s 3ms/step - loss: 1.1504\n",
      "Epoch 33/100\n",
      "1062/1062 [==============================] - 4s 3ms/step - loss: 1.1349\n",
      "Epoch 34/100\n",
      "1062/1062 [==============================] - 4s 3ms/step - loss: 1.1200\n",
      "Epoch 35/100\n",
      "1062/1062 [==============================] - 4s 3ms/step - loss: 1.1057\n",
      "Epoch 36/100\n",
      "1062/1062 [==============================] - 4s 3ms/step - loss: 1.0919\n",
      "Epoch 37/100\n",
      "1062/1062 [==============================] - 3s 3ms/step - loss: 1.0788\n",
      "Epoch 38/100\n",
      "1062/1062 [==============================] - 4s 3ms/step - loss: 1.0660\n",
      "Epoch 39/100\n",
      "1062/1062 [==============================] - 4s 3ms/step - loss: 1.0538\n",
      "Epoch 40/100\n",
      "1062/1062 [==============================] - 3s 3ms/step - loss: 1.0420\n",
      "Epoch 41/100\n",
      "1062/1062 [==============================] - 4s 3ms/step - loss: 1.0308\n",
      "Epoch 42/100\n",
      "1062/1062 [==============================] - 4s 3ms/step - loss: 1.0199\n",
      "Epoch 43/100\n",
      "1062/1062 [==============================] - 4s 3ms/step - loss: 1.0096\n",
      "Epoch 44/100\n",
      "1062/1062 [==============================] - 4s 3ms/step - loss: 0.9996\n",
      "Epoch 45/100\n",
      "1062/1062 [==============================] - 4s 3ms/step - loss: 0.9899\n",
      "Epoch 46/100\n",
      "1062/1062 [==============================] - 4s 3ms/step - loss: 0.9806\n",
      "Epoch 47/100\n",
      "1062/1062 [==============================] - 4s 3ms/step - loss: 0.9717\n",
      "Epoch 48/100\n",
      "1062/1062 [==============================] - 4s 3ms/step - loss: 0.9632\n",
      "Epoch 49/100\n",
      "1062/1062 [==============================] - 4s 3ms/step - loss: 0.9550\n",
      "Epoch 50/100\n",
      "1062/1062 [==============================] - 4s 3ms/step - loss: 0.9470\n",
      "Epoch 51/100\n",
      "1062/1062 [==============================] - 4s 3ms/step - loss: 0.9394\n",
      "Epoch 52/100\n",
      "1062/1062 [==============================] - 4s 3ms/step - loss: 0.9319\n",
      "Epoch 53/100\n",
      "1062/1062 [==============================] - 3s 3ms/step - loss: 0.9248\n",
      "Epoch 54/100\n",
      "1062/1062 [==============================] - 4s 4ms/step - loss: 0.9179\n",
      "Epoch 55/100\n",
      "1062/1062 [==============================] - 4s 4ms/step - loss: 0.9113\n",
      "Epoch 56/100\n",
      "1062/1062 [==============================] - 4s 4ms/step - loss: 0.9048\n",
      "Epoch 57/100\n",
      "1062/1062 [==============================] - 4s 3ms/step - loss: 0.8983\n",
      "Epoch 58/100\n",
      "1062/1062 [==============================] - 4s 3ms/step - loss: 0.8924\n",
      "Epoch 59/100\n",
      "1062/1062 [==============================] - 4s 3ms/step - loss: 0.8866\n",
      "Epoch 60/100\n",
      "1062/1062 [==============================] - 4s 3ms/step - loss: 0.8808\n",
      "Epoch 61/100\n",
      "1062/1062 [==============================] - 4s 3ms/step - loss: 0.8754\n",
      "Epoch 62/100\n",
      "1062/1062 [==============================] - 4s 4ms/step - loss: 0.8701\n",
      "Epoch 63/100\n",
      "1062/1062 [==============================] - 4s 3ms/step - loss: 0.8650\n",
      "Epoch 64/100\n",
      "1062/1062 [==============================] - 4s 3ms/step - loss: 0.8601\n",
      "Epoch 65/100\n",
      "1062/1062 [==============================] - 4s 3ms/step - loss: 0.8553\n",
      "Epoch 66/100\n",
      "1062/1062 [==============================] - 4s 3ms/step - loss: 0.8508\n",
      "Epoch 67/100\n",
      "1062/1062 [==============================] - 4s 3ms/step - loss: 0.8463\n",
      "Epoch 68/100\n",
      "1062/1062 [==============================] - 4s 3ms/step - loss: 0.8418\n",
      "Epoch 69/100\n",
      "1062/1062 [==============================] - 4s 3ms/step - loss: 0.8374\n",
      "Epoch 70/100\n",
      "1062/1062 [==============================] - 4s 3ms/step - loss: 0.8333\n",
      "Epoch 71/100\n",
      "1062/1062 [==============================] - 4s 3ms/step - loss: 0.8293\n",
      "Epoch 72/100\n",
      "1062/1062 [==============================] - 4s 3ms/step - loss: 0.8254\n",
      "Epoch 73/100\n",
      "1062/1062 [==============================] - 4s 3ms/step - loss: 0.8216\n",
      "Epoch 74/100\n",
      "1062/1062 [==============================] - 5s 4ms/step - loss: 0.8178\n",
      "Epoch 75/100\n",
      "1062/1062 [==============================] - 4s 4ms/step - loss: 0.8143\n",
      "Epoch 76/100\n",
      "1062/1062 [==============================] - 4s 3ms/step - loss: 0.8107\n",
      "Epoch 77/100\n",
      "1062/1062 [==============================] - 4s 3ms/step - loss: 0.8073\n",
      "Epoch 78/100\n",
      "1062/1062 [==============================] - 4s 3ms/step - loss: 0.8039\n",
      "Epoch 79/100\n",
      "1062/1062 [==============================] - 4s 3ms/step - loss: 0.8006\n",
      "Epoch 80/100\n",
      "1062/1062 [==============================] - 4s 3ms/step - loss: 0.7974\n",
      "Epoch 81/100\n",
      "1062/1062 [==============================] - 4s 4ms/step - loss: 0.7943\n",
      "Epoch 82/100\n",
      "1062/1062 [==============================] - 4s 4ms/step - loss: 0.7912\n",
      "Epoch 83/100\n",
      "1062/1062 [==============================] - 4s 3ms/step - loss: 0.7883\n",
      "Epoch 84/100\n",
      "1062/1062 [==============================] - 4s 3ms/step - loss: 0.7854\n",
      "Epoch 85/100\n",
      "1062/1062 [==============================] - 4s 3ms/step - loss: 0.7827\n",
      "Epoch 86/100\n",
      "1062/1062 [==============================] - 4s 4ms/step - loss: 0.7798\n",
      "Epoch 87/100\n",
      "1062/1062 [==============================] - 4s 3ms/step - loss: 0.7771\n",
      "Epoch 88/100\n",
      "1062/1062 [==============================] - 4s 3ms/step - loss: 0.7745\n",
      "Epoch 89/100\n",
      "1062/1062 [==============================] - 4s 3ms/step - loss: 0.7721\n",
      "Epoch 90/100\n",
      "1062/1062 [==============================] - 4s 3ms/step - loss: 0.7694\n",
      "Epoch 91/100\n",
      "1062/1062 [==============================] - 4s 3ms/step - loss: 0.7670\n",
      "Epoch 92/100\n",
      "1062/1062 [==============================] - 4s 3ms/step - loss: 0.7647\n",
      "Epoch 93/100\n",
      "1062/1062 [==============================] - 4s 3ms/step - loss: 0.7624\n",
      "Epoch 94/100\n",
      "1062/1062 [==============================] - 4s 4ms/step - loss: 0.7600\n",
      "Epoch 95/100\n",
      "1062/1062 [==============================] - 4s 4ms/step - loss: 0.7576\n",
      "Epoch 96/100\n",
      "1062/1062 [==============================] - 4s 3ms/step - loss: 0.7556\n",
      "Epoch 97/100\n"
     ]
    },
    {
     "name": "stdout",
     "output_type": "stream",
     "text": [
      "1062/1062 [==============================] - 4s 3ms/step - loss: 0.7534\n",
      "Epoch 98/100\n",
      "1062/1062 [==============================] - 4s 3ms/step - loss: 0.7512\n",
      "Epoch 99/100\n",
      "1062/1062 [==============================] - 3s 3ms/step - loss: 0.7492\n",
      "Epoch 100/100\n",
      "1062/1062 [==============================] - 4s 3ms/step - loss: 0.7472\n"
     ]
    }
   ],
   "source": [
    "#Model Training\n",
    "history=lstm.fit(X_train, y_train, epochs=100, batch_size=8, verbose=1, shuffle=False)"
   ]
  },
  {
   "cell_type": "code",
   "execution_count": 29,
   "id": "68a760a2",
   "metadata": {},
   "outputs": [
    {
     "name": "stdout",
     "output_type": "stream",
     "text": [
      "27/27 [==============================] - 0s 2ms/step\n"
     ]
    }
   ],
   "source": [
    "#LSTM Prediction\n",
    "y_pred= lstm.predict(X_test)"
   ]
  },
  {
   "cell_type": "code",
   "execution_count": 31,
   "id": "945c7e4c",
   "metadata": {},
   "outputs": [
    {
     "data": {
      "image/png": "[encoded data removed]",
      "text/plain": [
       "<Figure size 432x288 with 1 Axes>"
      ]
     },
     "metadata": {
      "needs_background": "light"
     },
     "output_type": "display_data"
    }
   ],
   "source": [
    "#Predicted vs True Adj Close Value – LSTM\n",
    "plt.plot(y_test, label='True Value')\n",
    "plt.plot(y_pred, label='LSTM Value')\n",
    "plt.title(\"Prediction by LSTM\")\n",
    "plt.xlabel('Time Scale')\n",
    "plt.ylabel('Scaled USD')\n",
    "plt.legend()\n",
    "plt.show()"
   ]
  },
  {
   "cell_type": "code",
   "execution_count": null,
   "id": "522458b9",
   "metadata": {},
   "outputs": [],
   "source": []
  },
  {
   "cell_type": "code",
   "execution_count": null,
   "id": "fe593b47",
   "metadata": {},
   "outputs": [],
   "source": []
  },
  {
   "cell_type": "code",
   "execution_count": null,
   "id": "8092cff6",
   "metadata": {},
   "outputs": [],
   "source": []
  }
 ],
 "metadata": {
  "kernelspec": {
   "display_name": "Python 3 (ipykernel)",
   "language": "python",
   "name": "python3"
  },
  "language_info": {
   "codemirror_mode": {
    "name": "ipython",
    "version": 3
   },
   "file_extension": ".py",
   "mimetype": "text/x-python",
   "name": "python",
   "nbconvert_exporter": "python",
   "pygments_lexer": "ipython3",
   "version": "3.8.10"
  }
 },
 "nbformat": 4,
 "nbformat_minor": 5
}
